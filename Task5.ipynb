{
 "cells": [
  {
   "cell_type": "code",
   "execution_count": 1,
   "metadata": {},
   "outputs": [],
   "source": [
    "# bu sayfada economic_variables için analiz yapılmıştır.\n",
    "import pandas as pd\n",
    "econovar =pd.read_csv (\"economic_variables.csv\")\n",
    "df = econovar.copy()"
   ]
  },
  {
   "cell_type": "code",
   "execution_count": 2,
   "metadata": {},
   "outputs": [
    {
     "data": {
      "text/html": [
       "<div>\n",
       "<style scoped>\n",
       "    .dataframe tbody tr th:only-of-type {\n",
       "        vertical-align: middle;\n",
       "    }\n",
       "\n",
       "    .dataframe tbody tr th {\n",
       "        vertical-align: top;\n",
       "    }\n",
       "\n",
       "    .dataframe thead th {\n",
       "        text-align: right;\n",
       "    }\n",
       "</style>\n",
       "<table border=\"1\" class=\"dataframe\">\n",
       "  <thead>\n",
       "    <tr style=\"text-align: right;\">\n",
       "      <th></th>\n",
       "      <th>pk</th>\n",
       "      <th>date</th>\n",
       "      <th>hour</th>\n",
       "      <th>bist100</th>\n",
       "      <th>usdtry</th>\n",
       "      <th>eurtry</th>\n",
       "      <th>eurusd</th>\n",
       "      <th>faiz</th>\n",
       "      <th>xau</th>\n",
       "      <th>brent</th>\n",
       "      <th>bky</th>\n",
       "    </tr>\n",
       "  </thead>\n",
       "  <tbody>\n",
       "    <tr>\n",
       "      <td>0</td>\n",
       "      <td>3</td>\n",
       "      <td>2021-04-28</td>\n",
       "      <td>17</td>\n",
       "      <td>1388.59</td>\n",
       "      <td>8.2159</td>\n",
       "      <td>9.9379</td>\n",
       "      <td>1.2096</td>\n",
       "      <td>18.08</td>\n",
       "      <td>1773.86</td>\n",
       "      <td>67.33</td>\n",
       "      <td>NaN</td>\n",
       "    </tr>\n",
       "    <tr>\n",
       "      <td>1</td>\n",
       "      <td>4</td>\n",
       "      <td>2021-04-29</td>\n",
       "      <td>10</td>\n",
       "      <td>1398.85</td>\n",
       "      <td>8.1710</td>\n",
       "      <td>9.9166</td>\n",
       "      <td>1.2120</td>\n",
       "      <td>18.08</td>\n",
       "      <td>1780.19</td>\n",
       "      <td>67.54</td>\n",
       "      <td>NaN</td>\n",
       "    </tr>\n",
       "    <tr>\n",
       "      <td>2</td>\n",
       "      <td>5</td>\n",
       "      <td>2021-04-30</td>\n",
       "      <td>9</td>\n",
       "      <td>1401.52</td>\n",
       "      <td>8.2281</td>\n",
       "      <td>9.9741</td>\n",
       "      <td>1.2117</td>\n",
       "      <td>18.08</td>\n",
       "      <td>1769.11</td>\n",
       "      <td>68.08</td>\n",
       "      <td>NaN</td>\n",
       "    </tr>\n",
       "    <tr>\n",
       "      <td>3</td>\n",
       "      <td>6</td>\n",
       "      <td>2021-05-03</td>\n",
       "      <td>19</td>\n",
       "      <td>1421.15</td>\n",
       "      <td>8.2649</td>\n",
       "      <td>9.9694</td>\n",
       "      <td>1.2056</td>\n",
       "      <td>17.94</td>\n",
       "      <td>1793.31</td>\n",
       "      <td>67.45</td>\n",
       "      <td>NaN</td>\n",
       "    </tr>\n",
       "    <tr>\n",
       "      <td>4</td>\n",
       "      <td>7</td>\n",
       "      <td>2021-05-04</td>\n",
       "      <td>10</td>\n",
       "      <td>1421.15</td>\n",
       "      <td>8.2888</td>\n",
       "      <td>9.9721</td>\n",
       "      <td>1.2027</td>\n",
       "      <td>17.94</td>\n",
       "      <td>1785.86</td>\n",
       "      <td>67.43</td>\n",
       "      <td>NaN</td>\n",
       "    </tr>\n",
       "  </tbody>\n",
       "</table>\n",
       "</div>"
      ],
      "text/plain": [
       "   pk        date  hour  bist100  usdtry  eurtry  eurusd   faiz      xau  \\\n",
       "0   3  2021-04-28    17  1388.59  8.2159  9.9379  1.2096  18.08  1773.86   \n",
       "1   4  2021-04-29    10  1398.85  8.1710  9.9166  1.2120  18.08  1780.19   \n",
       "2   5  2021-04-30     9  1401.52  8.2281  9.9741  1.2117  18.08  1769.11   \n",
       "3   6  2021-05-03    19  1421.15  8.2649  9.9694  1.2056  17.94  1793.31   \n",
       "4   7  2021-05-04    10  1421.15  8.2888  9.9721  1.2027  17.94  1785.86   \n",
       "\n",
       "   brent  bky  \n",
       "0  67.33  NaN  \n",
       "1  67.54  NaN  \n",
       "2  68.08  NaN  \n",
       "3  67.45  NaN  \n",
       "4  67.43  NaN  "
      ]
     },
     "execution_count": 2,
     "metadata": {},
     "output_type": "execute_result"
    }
   ],
   "source": [
    "df.head ()"
   ]
  },
  {
   "cell_type": "code",
   "execution_count": 3,
   "metadata": {},
   "outputs": [
    {
     "data": {
      "text/plain": [
       "pk           int64\n",
       "date        object\n",
       "hour         int64\n",
       "bist100    float64\n",
       "usdtry     float64\n",
       "eurtry     float64\n",
       "eurusd     float64\n",
       "faiz       float64\n",
       "xau        float64\n",
       "brent      float64\n",
       "bky        float64\n",
       "dtype: object"
      ]
     },
     "execution_count": 3,
     "metadata": {},
     "output_type": "execute_result"
    }
   ],
   "source": [
    "df.dtypes"
   ]
  },
  {
   "cell_type": "code",
   "execution_count": 4,
   "metadata": {},
   "outputs": [],
   "source": [
    "df=df[(df['date'] >= '2021-03-01') & (df['date'] < '2021-10-18')]"
   ]
  },
  {
   "cell_type": "code",
   "execution_count": 5,
   "metadata": {},
   "outputs": [
    {
     "data": {
      "text/plain": [
       "pk           0\n",
       "date         0\n",
       "hour         0\n",
       "bist100      0\n",
       "usdtry       0\n",
       "eurtry       0\n",
       "eurusd       0\n",
       "faiz         0\n",
       "xau          0\n",
       "brent        0\n",
       "bky        416\n",
       "dtype: int64"
      ]
     },
     "execution_count": 5,
     "metadata": {},
     "output_type": "execute_result"
    }
   ],
   "source": [
    "df.isnull().sum ()"
   ]
  },
  {
   "cell_type": "code",
   "execution_count": 6,
   "metadata": {},
   "outputs": [],
   "source": [
    "df['year'] = pd.DatetimeIndex(df['date']).year\n",
    "df['month'] = pd.DatetimeIndex(df['date']).month"
   ]
  },
  {
   "cell_type": "code",
   "execution_count": 12,
   "metadata": {},
   "outputs": [
    {
     "name": "stdout",
     "output_type": "stream",
     "text": [
      "           bist100       faiz    usdtry          xau\n",
      "year          2021       2021      2021         2021\n",
      "month                                               \n",
      "4      1396.320000  18.080000  8.205000  1774.386667\n",
      "5      1438.540357  18.220446  8.394794  1856.054911\n",
      "6      1416.078037  18.696075  8.654828  1828.793364\n",
      "7      1367.624797  18.600244  8.600503  1804.862764\n",
      "8      1437.288556  18.827778  8.496312  1783.846111\n",
      "9      1427.327750  18.021833  8.560462  1780.336250\n",
      "10     1403.476471  18.244118  8.991672  1763.620882\n"
     ]
    }
   ],
   "source": [
    "import numpy as np\n",
    "pivotecovar=pd.pivot_table(df, values=['usdtry',\"faiz\",\"bist100\",\"xau\"], index=['month'], columns=[\"year\"], aggfunc=np.mean)\n",
    "print(pivotecovar)"
   ]
  },
  {
   "cell_type": "code",
   "execution_count": 18,
   "metadata": {},
   "outputs": [
    {
     "data": {
      "image/png": "[encoded data removed]",
      "text/plain": [
       "<Figure size 432x288 with 2 Axes>"
      ]
     },
     "metadata": {
      "needs_background": "light"
     },
     "output_type": "display_data"
    }
   ],
   "source": [
    "import seaborn as sns\n",
    "sns.heatmap (pivotecovar, annot =True ,linewidths =1);"
   ]
  },
  {
   "cell_type": "code",
   "execution_count": null,
   "metadata": {},
   "outputs": [],
   "source": [
    "# economic_variables veri seti üzerindeki heat-map dağılımlarının\n",
    "# transactions üzerindeki lead sayılarıyla anlamlı bir ilişki görülmemiştir."
   ]
  }
 ],
 "metadata": {
  "kernelspec": {
   "display_name": "Python 3",
   "language": "python",
   "name": "python3"
  },
  "language_info": {
   "codemirror_mode": {
    "name": "ipython",
    "version": 3
   },
   "file_extension": ".py",
   "mimetype": "text/x-python",
   "name": "python",
   "nbconvert_exporter": "python",
   "pygments_lexer": "ipython3",
   "version": "3.7.4"
  }
 },
 "nbformat": 4,
 "nbformat_minor": 4
}
