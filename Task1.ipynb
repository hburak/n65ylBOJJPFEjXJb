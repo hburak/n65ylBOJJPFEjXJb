{
 "cells": [
  {
   "cell_type": "code",
   "execution_count": 1,
   "metadata": {},
   "outputs": [],
   "source": [
    "# bu sayfamızda transaction veri seti üzerindeki zaman serisi analizlerini gerçekleştirdik.\n",
    "import pandas as pd\n"
   ]
  },
  {
   "cell_type": "code",
   "execution_count": 2,
   "metadata": {},
   "outputs": [],
   "source": [
    "# yükleme ve gözlem işlemleri\n",
    "transactions =pd.read_csv (\"transactions.csv\")\n",
    "df = transactions.copy()"
   ]
  },
  {
   "cell_type": "code",
   "execution_count": 3,
   "metadata": {},
   "outputs": [
    {
     "data": {
      "text/plain": [
       "20831809"
      ]
     },
     "execution_count": 3,
     "metadata": {},
     "output_type": "execute_result"
    }
   ],
   "source": [
    "len(df)"
   ]
  },
  {
   "cell_type": "code",
   "execution_count": 4,
   "metadata": {},
   "outputs": [
    {
     "data": {
      "text/html": [
       "<div>\n",
       "<style scoped>\n",
       "    .dataframe tbody tr th:only-of-type {\n",
       "        vertical-align: middle;\n",
       "    }\n",
       "\n",
       "    .dataframe tbody tr th {\n",
       "        vertical-align: top;\n",
       "    }\n",
       "\n",
       "    .dataframe thead th {\n",
       "        text-align: right;\n",
       "    }\n",
       "</style>\n",
       "<table border=\"1\" class=\"dataframe\">\n",
       "  <thead>\n",
       "    <tr style=\"text-align: right;\">\n",
       "      <th></th>\n",
       "      <th>pk</th>\n",
       "      <th>ga_transactionid</th>\n",
       "      <th>ga_datehour</th>\n",
       "      <th>ga_products</th>\n",
       "      <th>ga_channels</th>\n",
       "      <th>ga_itemquantity</th>\n",
       "    </tr>\n",
       "  </thead>\n",
       "  <tbody>\n",
       "    <tr>\n",
       "      <td>0</td>\n",
       "      <td>146288072</td>\n",
       "      <td>2_50414543</td>\n",
       "      <td>2020082900</td>\n",
       "      <td>Product D</td>\n",
       "      <td>Facebook</td>\n",
       "      <td>1</td>\n",
       "    </tr>\n",
       "    <tr>\n",
       "      <td>1</td>\n",
       "      <td>146288071</td>\n",
       "      <td>2_50414542</td>\n",
       "      <td>2020082900</td>\n",
       "      <td>Product D</td>\n",
       "      <td>Organic search</td>\n",
       "      <td>1</td>\n",
       "    </tr>\n",
       "    <tr>\n",
       "      <td>2</td>\n",
       "      <td>146287503</td>\n",
       "      <td>2_50413935</td>\n",
       "      <td>2020082900</td>\n",
       "      <td>Product D</td>\n",
       "      <td>Organic search</td>\n",
       "      <td>1</td>\n",
       "    </tr>\n",
       "    <tr>\n",
       "      <td>3</td>\n",
       "      <td>146287504</td>\n",
       "      <td>2_50413936</td>\n",
       "      <td>2020082900</td>\n",
       "      <td>Product D</td>\n",
       "      <td>Organic search</td>\n",
       "      <td>1</td>\n",
       "    </tr>\n",
       "    <tr>\n",
       "      <td>4</td>\n",
       "      <td>146296436</td>\n",
       "      <td>3_65496155</td>\n",
       "      <td>2020082900</td>\n",
       "      <td>Product E</td>\n",
       "      <td>Google Ads</td>\n",
       "      <td>1</td>\n",
       "    </tr>\n",
       "  </tbody>\n",
       "</table>\n",
       "</div>"
      ],
      "text/plain": [
       "          pk ga_transactionid  ga_datehour ga_products     ga_channels  \\\n",
       "0  146288072       2_50414543   2020082900   Product D        Facebook   \n",
       "1  146288071       2_50414542   2020082900   Product D  Organic search   \n",
       "2  146287503       2_50413935   2020082900   Product D  Organic search   \n",
       "3  146287504       2_50413936   2020082900   Product D  Organic search   \n",
       "4  146296436       3_65496155   2020082900   Product E      Google Ads   \n",
       "\n",
       "   ga_itemquantity  \n",
       "0                1  \n",
       "1                1  \n",
       "2                1  \n",
       "3                1  \n",
       "4                1  "
      ]
     },
     "execution_count": 4,
     "metadata": {},
     "output_type": "execute_result"
    }
   ],
   "source": [
    "df.head()"
   ]
  },
  {
   "cell_type": "code",
   "execution_count": 5,
   "metadata": {},
   "outputs": [
    {
     "data": {
      "text/html": [
       "<div>\n",
       "<style scoped>\n",
       "    .dataframe tbody tr th:only-of-type {\n",
       "        vertical-align: middle;\n",
       "    }\n",
       "\n",
       "    .dataframe tbody tr th {\n",
       "        vertical-align: top;\n",
       "    }\n",
       "\n",
       "    .dataframe thead th {\n",
       "        text-align: right;\n",
       "    }\n",
       "</style>\n",
       "<table border=\"1\" class=\"dataframe\">\n",
       "  <thead>\n",
       "    <tr style=\"text-align: right;\">\n",
       "      <th></th>\n",
       "      <th>pk</th>\n",
       "      <th>ga_transactionid</th>\n",
       "      <th>ga_datehour</th>\n",
       "      <th>ga_products</th>\n",
       "      <th>ga_channels</th>\n",
       "      <th>ga_itemquantity</th>\n",
       "    </tr>\n",
       "  </thead>\n",
       "  <tbody>\n",
       "    <tr>\n",
       "      <td>20831804</td>\n",
       "      <td>226498706</td>\n",
       "      <td>11_2530064</td>\n",
       "      <td>2021101807</td>\n",
       "      <td>Product D</td>\n",
       "      <td>Google Ads</td>\n",
       "      <td>1</td>\n",
       "    </tr>\n",
       "    <tr>\n",
       "      <td>20831805</td>\n",
       "      <td>226498707</td>\n",
       "      <td>11_2530066</td>\n",
       "      <td>2021101807</td>\n",
       "      <td>Product D</td>\n",
       "      <td>Facebook</td>\n",
       "      <td>1</td>\n",
       "    </tr>\n",
       "    <tr>\n",
       "      <td>20831806</td>\n",
       "      <td>226498708</td>\n",
       "      <td>11_2530068</td>\n",
       "      <td>2021101807</td>\n",
       "      <td>Product D</td>\n",
       "      <td>Google Ads</td>\n",
       "      <td>1</td>\n",
       "    </tr>\n",
       "    <tr>\n",
       "      <td>20831807</td>\n",
       "      <td>226498709</td>\n",
       "      <td>11_2530070</td>\n",
       "      <td>2021101807</td>\n",
       "      <td>Product D</td>\n",
       "      <td>NaN</td>\n",
       "      <td>1</td>\n",
       "    </tr>\n",
       "    <tr>\n",
       "      <td>20831808</td>\n",
       "      <td>226498710</td>\n",
       "      <td>11_2530071</td>\n",
       "      <td>2021101807</td>\n",
       "      <td>Product D</td>\n",
       "      <td>Facebook</td>\n",
       "      <td>1</td>\n",
       "    </tr>\n",
       "  </tbody>\n",
       "</table>\n",
       "</div>"
      ],
      "text/plain": [
       "                 pk ga_transactionid  ga_datehour ga_products ga_channels  \\\n",
       "20831804  226498706       11_2530064   2021101807   Product D  Google Ads   \n",
       "20831805  226498707       11_2530066   2021101807   Product D    Facebook   \n",
       "20831806  226498708       11_2530068   2021101807   Product D  Google Ads   \n",
       "20831807  226498709       11_2530070   2021101807   Product D         NaN   \n",
       "20831808  226498710       11_2530071   2021101807   Product D    Facebook   \n",
       "\n",
       "          ga_itemquantity  \n",
       "20831804                1  \n",
       "20831805                1  \n",
       "20831806                1  \n",
       "20831807                1  \n",
       "20831808                1  "
      ]
     },
     "execution_count": 5,
     "metadata": {},
     "output_type": "execute_result"
    }
   ],
   "source": [
    "df.tail ()"
   ]
  },
  {
   "cell_type": "code",
   "execution_count": 6,
   "metadata": {},
   "outputs": [
    {
     "name": "stdout",
     "output_type": "stream",
     "text": [
      "<class 'pandas.core.frame.DataFrame'>\n",
      "RangeIndex: 20831809 entries, 0 to 20831808\n",
      "Data columns (total 6 columns):\n",
      "pk                  int64\n",
      "ga_transactionid    object\n",
      "ga_datehour         int64\n",
      "ga_products         object\n",
      "ga_channels         object\n",
      "ga_itemquantity     int64\n",
      "dtypes: int64(3), object(3)\n",
      "memory usage: 953.6+ MB\n"
     ]
    }
   ],
   "source": [
    "df.info ()"
   ]
  },
  {
   "cell_type": "code",
   "execution_count": 7,
   "metadata": {},
   "outputs": [
    {
     "data": {
      "text/plain": [
       "pk                   int64\n",
       "ga_transactionid    object\n",
       "ga_datehour          int64\n",
       "ga_products         object\n",
       "ga_channels         object\n",
       "ga_itemquantity      int64\n",
       "dtype: object"
      ]
     },
     "execution_count": 7,
     "metadata": {},
     "output_type": "execute_result"
    }
   ],
   "source": [
    "df.dtypes"
   ]
  },
  {
   "cell_type": "code",
   "execution_count": 8,
   "metadata": {},
   "outputs": [],
   "source": [
    "# \"pk\" değişkeni int64'dü ancak cateogry olması gerekirdi. diger objectler'de category yapıldı\n",
    "df.pk = pd.Categorical (df.pk)\n",
    "df.ga_transactionid = pd.Categorical (df.ga_transactionid)\n",
    "df.ga_products = pd.Categorical (df.ga_products)\n",
    "df.ga_channels = pd.Categorical (df.ga_channels)"
   ]
  },
  {
   "cell_type": "code",
   "execution_count": 9,
   "metadata": {},
   "outputs": [
    {
     "data": {
      "text/plain": [
       "pk                  category\n",
       "ga_transactionid    category\n",
       "ga_datehour            int64\n",
       "ga_products         category\n",
       "ga_channels         category\n",
       "ga_itemquantity        int64\n",
       "dtype: object"
      ]
     },
     "execution_count": 9,
     "metadata": {},
     "output_type": "execute_result"
    }
   ],
   "source": [
    "df.dtypes"
   ]
  },
  {
   "cell_type": "code",
   "execution_count": 10,
   "metadata": {},
   "outputs": [],
   "source": [
    "#tarihler düzenlendi , saatler kaldırıldı\n",
    "df['ga_datehour']=df['ga_datehour'] // 100"
   ]
  },
  {
   "cell_type": "code",
   "execution_count": 11,
   "metadata": {},
   "outputs": [],
   "source": [
    "df['ga_datehour'] = pd.to_datetime(df['ga_datehour'], format='%Y%m%d')"
   ]
  },
  {
   "cell_type": "code",
   "execution_count": 12,
   "metadata": {},
   "outputs": [
    {
     "data": {
      "text/html": [
       "<div>\n",
       "<style scoped>\n",
       "    .dataframe tbody tr th:only-of-type {\n",
       "        vertical-align: middle;\n",
       "    }\n",
       "\n",
       "    .dataframe tbody tr th {\n",
       "        vertical-align: top;\n",
       "    }\n",
       "\n",
       "    .dataframe thead th {\n",
       "        text-align: right;\n",
       "    }\n",
       "</style>\n",
       "<table border=\"1\" class=\"dataframe\">\n",
       "  <thead>\n",
       "    <tr style=\"text-align: right;\">\n",
       "      <th></th>\n",
       "      <th>pk</th>\n",
       "      <th>ga_transactionid</th>\n",
       "      <th>ga_datehour</th>\n",
       "      <th>ga_products</th>\n",
       "      <th>ga_channels</th>\n",
       "      <th>ga_itemquantity</th>\n",
       "    </tr>\n",
       "  </thead>\n",
       "  <tbody>\n",
       "    <tr>\n",
       "      <td>0</td>\n",
       "      <td>146288072</td>\n",
       "      <td>2_50414543</td>\n",
       "      <td>2020-08-29</td>\n",
       "      <td>Product D</td>\n",
       "      <td>Facebook</td>\n",
       "      <td>1</td>\n",
       "    </tr>\n",
       "    <tr>\n",
       "      <td>1</td>\n",
       "      <td>146288071</td>\n",
       "      <td>2_50414542</td>\n",
       "      <td>2020-08-29</td>\n",
       "      <td>Product D</td>\n",
       "      <td>Organic search</td>\n",
       "      <td>1</td>\n",
       "    </tr>\n",
       "    <tr>\n",
       "      <td>2</td>\n",
       "      <td>146287503</td>\n",
       "      <td>2_50413935</td>\n",
       "      <td>2020-08-29</td>\n",
       "      <td>Product D</td>\n",
       "      <td>Organic search</td>\n",
       "      <td>1</td>\n",
       "    </tr>\n",
       "    <tr>\n",
       "      <td>3</td>\n",
       "      <td>146287504</td>\n",
       "      <td>2_50413936</td>\n",
       "      <td>2020-08-29</td>\n",
       "      <td>Product D</td>\n",
       "      <td>Organic search</td>\n",
       "      <td>1</td>\n",
       "    </tr>\n",
       "    <tr>\n",
       "      <td>4</td>\n",
       "      <td>146296436</td>\n",
       "      <td>3_65496155</td>\n",
       "      <td>2020-08-29</td>\n",
       "      <td>Product E</td>\n",
       "      <td>Google Ads</td>\n",
       "      <td>1</td>\n",
       "    </tr>\n",
       "  </tbody>\n",
       "</table>\n",
       "</div>"
      ],
      "text/plain": [
       "          pk ga_transactionid ga_datehour ga_products     ga_channels  \\\n",
       "0  146288072       2_50414543  2020-08-29   Product D        Facebook   \n",
       "1  146288071       2_50414542  2020-08-29   Product D  Organic search   \n",
       "2  146287503       2_50413935  2020-08-29   Product D  Organic search   \n",
       "3  146287504       2_50413936  2020-08-29   Product D  Organic search   \n",
       "4  146296436       3_65496155  2020-08-29   Product E      Google Ads   \n",
       "\n",
       "   ga_itemquantity  \n",
       "0                1  \n",
       "1                1  \n",
       "2                1  \n",
       "3                1  \n",
       "4                1  "
      ]
     },
     "execution_count": 12,
     "metadata": {},
     "output_type": "execute_result"
    }
   ],
   "source": [
    "df.head (5)"
   ]
  },
  {
   "cell_type": "code",
   "execution_count": 13,
   "metadata": {},
   "outputs": [
    {
     "data": {
      "text/html": [
       "<div>\n",
       "<style scoped>\n",
       "    .dataframe tbody tr th:only-of-type {\n",
       "        vertical-align: middle;\n",
       "    }\n",
       "\n",
       "    .dataframe tbody tr th {\n",
       "        vertical-align: top;\n",
       "    }\n",
       "\n",
       "    .dataframe thead th {\n",
       "        text-align: right;\n",
       "    }\n",
       "</style>\n",
       "<table border=\"1\" class=\"dataframe\">\n",
       "  <thead>\n",
       "    <tr style=\"text-align: right;\">\n",
       "      <th></th>\n",
       "      <th>pk</th>\n",
       "      <th>ga_transactionid</th>\n",
       "      <th>ga_datehour</th>\n",
       "      <th>ga_products</th>\n",
       "      <th>ga_channels</th>\n",
       "      <th>ga_itemquantity</th>\n",
       "    </tr>\n",
       "  </thead>\n",
       "  <tbody>\n",
       "    <tr>\n",
       "      <td>20831804</td>\n",
       "      <td>226498706</td>\n",
       "      <td>11_2530064</td>\n",
       "      <td>2021-10-18</td>\n",
       "      <td>Product D</td>\n",
       "      <td>Google Ads</td>\n",
       "      <td>1</td>\n",
       "    </tr>\n",
       "    <tr>\n",
       "      <td>20831805</td>\n",
       "      <td>226498707</td>\n",
       "      <td>11_2530066</td>\n",
       "      <td>2021-10-18</td>\n",
       "      <td>Product D</td>\n",
       "      <td>Facebook</td>\n",
       "      <td>1</td>\n",
       "    </tr>\n",
       "    <tr>\n",
       "      <td>20831806</td>\n",
       "      <td>226498708</td>\n",
       "      <td>11_2530068</td>\n",
       "      <td>2021-10-18</td>\n",
       "      <td>Product D</td>\n",
       "      <td>Google Ads</td>\n",
       "      <td>1</td>\n",
       "    </tr>\n",
       "    <tr>\n",
       "      <td>20831807</td>\n",
       "      <td>226498709</td>\n",
       "      <td>11_2530070</td>\n",
       "      <td>2021-10-18</td>\n",
       "      <td>Product D</td>\n",
       "      <td>NaN</td>\n",
       "      <td>1</td>\n",
       "    </tr>\n",
       "    <tr>\n",
       "      <td>20831808</td>\n",
       "      <td>226498710</td>\n",
       "      <td>11_2530071</td>\n",
       "      <td>2021-10-18</td>\n",
       "      <td>Product D</td>\n",
       "      <td>Facebook</td>\n",
       "      <td>1</td>\n",
       "    </tr>\n",
       "  </tbody>\n",
       "</table>\n",
       "</div>"
      ],
      "text/plain": [
       "                 pk ga_transactionid ga_datehour ga_products ga_channels  \\\n",
       "20831804  226498706       11_2530064  2021-10-18   Product D  Google Ads   \n",
       "20831805  226498707       11_2530066  2021-10-18   Product D    Facebook   \n",
       "20831806  226498708       11_2530068  2021-10-18   Product D  Google Ads   \n",
       "20831807  226498709       11_2530070  2021-10-18   Product D         NaN   \n",
       "20831808  226498710       11_2530071  2021-10-18   Product D    Facebook   \n",
       "\n",
       "          ga_itemquantity  \n",
       "20831804                1  \n",
       "20831805                1  \n",
       "20831806                1  \n",
       "20831807                1  \n",
       "20831808                1  "
      ]
     },
     "execution_count": 13,
     "metadata": {},
     "output_type": "execute_result"
    }
   ],
   "source": [
    "df.tail ()"
   ]
  },
  {
   "cell_type": "code",
   "execution_count": 14,
   "metadata": {},
   "outputs": [
    {
     "data": {
      "text/html": [
       "<div>\n",
       "<style scoped>\n",
       "    .dataframe tbody tr th:only-of-type {\n",
       "        vertical-align: middle;\n",
       "    }\n",
       "\n",
       "    .dataframe tbody tr th {\n",
       "        vertical-align: top;\n",
       "    }\n",
       "\n",
       "    .dataframe thead th {\n",
       "        text-align: right;\n",
       "    }\n",
       "</style>\n",
       "<table border=\"1\" class=\"dataframe\">\n",
       "  <thead>\n",
       "    <tr style=\"text-align: right;\">\n",
       "      <th></th>\n",
       "      <th>count</th>\n",
       "      <th>mean</th>\n",
       "      <th>std</th>\n",
       "      <th>min</th>\n",
       "      <th>25%</th>\n",
       "      <th>50%</th>\n",
       "      <th>75%</th>\n",
       "      <th>max</th>\n",
       "    </tr>\n",
       "  </thead>\n",
       "  <tbody>\n",
       "    <tr>\n",
       "      <td>ga_itemquantity</td>\n",
       "      <td>20831809.0</td>\n",
       "      <td>1.000343</td>\n",
       "      <td>0.018537</td>\n",
       "      <td>1.0</td>\n",
       "      <td>1.0</td>\n",
       "      <td>1.0</td>\n",
       "      <td>1.0</td>\n",
       "      <td>4.0</td>\n",
       "    </tr>\n",
       "  </tbody>\n",
       "</table>\n",
       "</div>"
      ],
      "text/plain": [
       "                      count      mean       std  min  25%  50%  75%  max\n",
       "ga_itemquantity  20831809.0  1.000343  0.018537  1.0  1.0  1.0  1.0  4.0"
      ]
     },
     "execution_count": 14,
     "metadata": {},
     "output_type": "execute_result"
    }
   ],
   "source": [
    "df.describe().T"
   ]
  },
  {
   "cell_type": "code",
   "execution_count": 15,
   "metadata": {},
   "outputs": [
    {
     "data": {
      "text/plain": [
       "pk                        0\n",
       "ga_transactionid          0\n",
       "ga_datehour               0\n",
       "ga_products               0\n",
       "ga_channels         2071467\n",
       "ga_itemquantity           0\n",
       "dtype: int64"
      ]
     },
     "execution_count": 15,
     "metadata": {},
     "output_type": "execute_result"
    }
   ],
   "source": [
    "df.isnull().sum()"
   ]
  },
  {
   "cell_type": "code",
   "execution_count": 16,
   "metadata": {},
   "outputs": [
    {
     "data": {
      "text/plain": [
       "20831809"
      ]
     },
     "execution_count": 16,
     "metadata": {},
     "output_type": "execute_result"
    }
   ],
   "source": [
    "len(df [\"ga_channels\"])"
   ]
  },
  {
   "cell_type": "code",
   "execution_count": 22,
   "metadata": {},
   "outputs": [],
   "source": [
    "df=df[(df['ga_datehour'] >= '2020-08-01') & (df['ga_datehour'] < '2021-10-18')]"
   ]
  },
  {
   "cell_type": "code",
   "execution_count": 26,
   "metadata": {},
   "outputs": [],
   "source": [
    "# daha anlamlı bir pivot table oluşturmak için month ve year gözlemleri ayrıştırıldı\n",
    "df['date'] = pd.to_datetime(df['ga_datehour'],format='%Y%m%d')\n",
    "df['year'] = pd.DatetimeIndex(df['ga_datehour']).year\n",
    "df['month'] = pd.DatetimeIndex(df['ga_datehour']).month"
   ]
  },
  {
   "cell_type": "code",
   "execution_count": 28,
   "metadata": {},
   "outputs": [],
   "source": [
    "# frame şeklinde düzenlenmiş bir pivot- table benzeri oluşturuldu, lead counts' lar derlendi\n",
    "sumdf =df.groupby(['ga_channels','year',\"month\"],as_index=False).size().to_frame('size').reset_index()\n"
   ]
  },
  {
   "cell_type": "code",
   "execution_count": 30,
   "metadata": {},
   "outputs": [
    {
     "data": {
      "text/html": [
       "<div>\n",
       "<style scoped>\n",
       "    .dataframe tbody tr th:only-of-type {\n",
       "        vertical-align: middle;\n",
       "    }\n",
       "\n",
       "    .dataframe tbody tr th {\n",
       "        vertical-align: top;\n",
       "    }\n",
       "\n",
       "    .dataframe thead th {\n",
       "        text-align: right;\n",
       "    }\n",
       "</style>\n",
       "<table border=\"1\" class=\"dataframe\">\n",
       "  <thead>\n",
       "    <tr style=\"text-align: right;\">\n",
       "      <th></th>\n",
       "      <th>ga_channels</th>\n",
       "      <th>year</th>\n",
       "      <th>month</th>\n",
       "      <th>size</th>\n",
       "    </tr>\n",
       "  </thead>\n",
       "  <tbody>\n",
       "    <tr>\n",
       "      <td>0</td>\n",
       "      <td>CRM</td>\n",
       "      <td>2020</td>\n",
       "      <td>8</td>\n",
       "      <td>8305</td>\n",
       "    </tr>\n",
       "    <tr>\n",
       "      <td>1</td>\n",
       "      <td>CRM</td>\n",
       "      <td>2020</td>\n",
       "      <td>9</td>\n",
       "      <td>272386</td>\n",
       "    </tr>\n",
       "    <tr>\n",
       "      <td>2</td>\n",
       "      <td>CRM</td>\n",
       "      <td>2020</td>\n",
       "      <td>10</td>\n",
       "      <td>275386</td>\n",
       "    </tr>\n",
       "    <tr>\n",
       "      <td>3</td>\n",
       "      <td>CRM</td>\n",
       "      <td>2020</td>\n",
       "      <td>11</td>\n",
       "      <td>240604</td>\n",
       "    </tr>\n",
       "    <tr>\n",
       "      <td>4</td>\n",
       "      <td>CRM</td>\n",
       "      <td>2020</td>\n",
       "      <td>12</td>\n",
       "      <td>231659</td>\n",
       "    </tr>\n",
       "    <tr>\n",
       "      <td>...</td>\n",
       "      <td>...</td>\n",
       "      <td>...</td>\n",
       "      <td>...</td>\n",
       "      <td>...</td>\n",
       "    </tr>\n",
       "    <tr>\n",
       "      <td>85</td>\n",
       "      <td>Referral</td>\n",
       "      <td>2021</td>\n",
       "      <td>6</td>\n",
       "      <td>5926</td>\n",
       "    </tr>\n",
       "    <tr>\n",
       "      <td>86</td>\n",
       "      <td>Referral</td>\n",
       "      <td>2021</td>\n",
       "      <td>7</td>\n",
       "      <td>3359</td>\n",
       "    </tr>\n",
       "    <tr>\n",
       "      <td>87</td>\n",
       "      <td>Referral</td>\n",
       "      <td>2021</td>\n",
       "      <td>8</td>\n",
       "      <td>6134</td>\n",
       "    </tr>\n",
       "    <tr>\n",
       "      <td>88</td>\n",
       "      <td>Referral</td>\n",
       "      <td>2021</td>\n",
       "      <td>9</td>\n",
       "      <td>2686</td>\n",
       "    </tr>\n",
       "    <tr>\n",
       "      <td>89</td>\n",
       "      <td>Referral</td>\n",
       "      <td>2021</td>\n",
       "      <td>10</td>\n",
       "      <td>1463</td>\n",
       "    </tr>\n",
       "  </tbody>\n",
       "</table>\n",
       "<p>90 rows × 4 columns</p>\n",
       "</div>"
      ],
      "text/plain": [
       "   ga_channels  year  month    size\n",
       "0          CRM  2020      8    8305\n",
       "1          CRM  2020      9  272386\n",
       "2          CRM  2020     10  275386\n",
       "3          CRM  2020     11  240604\n",
       "4          CRM  2020     12  231659\n",
       "..         ...   ...    ...     ...\n",
       "85    Referral  2021      6    5926\n",
       "86    Referral  2021      7    3359\n",
       "87    Referral  2021      8    6134\n",
       "88    Referral  2021      9    2686\n",
       "89    Referral  2021     10    1463\n",
       "\n",
       "[90 rows x 4 columns]"
      ]
     },
     "execution_count": 30,
     "metadata": {},
     "output_type": "execute_result"
    }
   ],
   "source": [
    "sumdf"
   ]
  },
  {
   "cell_type": "code",
   "execution_count": 31,
   "metadata": {},
   "outputs": [],
   "source": [
    "# ileriki zamanlarda ml modeli için gerekli olabilir düşüncesiyle categorik olarak değiştirildi\n",
    "df.year = pd.Categorical (df.year)\n",
    "df.month = pd.Categorical (df.month)"
   ]
  },
  {
   "cell_type": "code",
   "execution_count": 32,
   "metadata": {},
   "outputs": [
    {
     "data": {
      "text/html": [
       "<div>\n",
       "<style scoped>\n",
       "    .dataframe tbody tr th:only-of-type {\n",
       "        vertical-align: middle;\n",
       "    }\n",
       "\n",
       "    .dataframe tbody tr th {\n",
       "        vertical-align: top;\n",
       "    }\n",
       "\n",
       "    .dataframe thead tr th {\n",
       "        text-align: left;\n",
       "    }\n",
       "\n",
       "    .dataframe thead tr:last-of-type th {\n",
       "        text-align: right;\n",
       "    }\n",
       "</style>\n",
       "<table border=\"1\" class=\"dataframe\">\n",
       "  <thead>\n",
       "    <tr>\n",
       "      <th>year</th>\n",
       "      <th colspan=\"5\" halign=\"left\">2020</th>\n",
       "      <th colspan=\"10\" halign=\"left\">2021</th>\n",
       "    </tr>\n",
       "    <tr>\n",
       "      <th>month</th>\n",
       "      <th>8</th>\n",
       "      <th>9</th>\n",
       "      <th>10</th>\n",
       "      <th>11</th>\n",
       "      <th>12</th>\n",
       "      <th>1</th>\n",
       "      <th>2</th>\n",
       "      <th>3</th>\n",
       "      <th>4</th>\n",
       "      <th>5</th>\n",
       "      <th>6</th>\n",
       "      <th>7</th>\n",
       "      <th>8</th>\n",
       "      <th>9</th>\n",
       "      <th>10</th>\n",
       "    </tr>\n",
       "    <tr>\n",
       "      <th>ga_channels</th>\n",
       "      <th></th>\n",
       "      <th></th>\n",
       "      <th></th>\n",
       "      <th></th>\n",
       "      <th></th>\n",
       "      <th></th>\n",
       "      <th></th>\n",
       "      <th></th>\n",
       "      <th></th>\n",
       "      <th></th>\n",
       "      <th></th>\n",
       "      <th></th>\n",
       "      <th></th>\n",
       "      <th></th>\n",
       "      <th></th>\n",
       "    </tr>\n",
       "  </thead>\n",
       "  <tbody>\n",
       "    <tr>\n",
       "      <td>CRM</td>\n",
       "      <td>8305</td>\n",
       "      <td>272386</td>\n",
       "      <td>275386</td>\n",
       "      <td>240604</td>\n",
       "      <td>231659</td>\n",
       "      <td>173919</td>\n",
       "      <td>223929</td>\n",
       "      <td>253797</td>\n",
       "      <td>199836</td>\n",
       "      <td>207033</td>\n",
       "      <td>182853</td>\n",
       "      <td>176291</td>\n",
       "      <td>108267</td>\n",
       "      <td>131605</td>\n",
       "      <td>56477</td>\n",
       "    </tr>\n",
       "    <tr>\n",
       "      <td>Direct</td>\n",
       "      <td>1212</td>\n",
       "      <td>14014</td>\n",
       "      <td>12042</td>\n",
       "      <td>12969</td>\n",
       "      <td>13429</td>\n",
       "      <td>13950</td>\n",
       "      <td>18295</td>\n",
       "      <td>19827</td>\n",
       "      <td>18799</td>\n",
       "      <td>18950</td>\n",
       "      <td>18773</td>\n",
       "      <td>20150</td>\n",
       "      <td>19428</td>\n",
       "      <td>23252</td>\n",
       "      <td>12522</td>\n",
       "    </tr>\n",
       "    <tr>\n",
       "      <td>Facebook</td>\n",
       "      <td>7852</td>\n",
       "      <td>85545</td>\n",
       "      <td>85903</td>\n",
       "      <td>69146</td>\n",
       "      <td>143551</td>\n",
       "      <td>138608</td>\n",
       "      <td>130553</td>\n",
       "      <td>151012</td>\n",
       "      <td>179330</td>\n",
       "      <td>191791</td>\n",
       "      <td>141406</td>\n",
       "      <td>246592</td>\n",
       "      <td>150884</td>\n",
       "      <td>133976</td>\n",
       "      <td>74908</td>\n",
       "    </tr>\n",
       "    <tr>\n",
       "      <td>Google Ads</td>\n",
       "      <td>79957</td>\n",
       "      <td>925588</td>\n",
       "      <td>922332</td>\n",
       "      <td>836480</td>\n",
       "      <td>886535</td>\n",
       "      <td>784429</td>\n",
       "      <td>884020</td>\n",
       "      <td>927633</td>\n",
       "      <td>841725</td>\n",
       "      <td>862360</td>\n",
       "      <td>813653</td>\n",
       "      <td>985252</td>\n",
       "      <td>886919</td>\n",
       "      <td>877830</td>\n",
       "      <td>501057</td>\n",
       "    </tr>\n",
       "    <tr>\n",
       "      <td>Organic search</td>\n",
       "      <td>18724</td>\n",
       "      <td>196872</td>\n",
       "      <td>187848</td>\n",
       "      <td>192497</td>\n",
       "      <td>153202</td>\n",
       "      <td>121261</td>\n",
       "      <td>129747</td>\n",
       "      <td>120371</td>\n",
       "      <td>89497</td>\n",
       "      <td>75834</td>\n",
       "      <td>73884</td>\n",
       "      <td>97521</td>\n",
       "      <td>94596</td>\n",
       "      <td>101115</td>\n",
       "      <td>61330</td>\n",
       "    </tr>\n",
       "    <tr>\n",
       "      <td>Referral</td>\n",
       "      <td>1473</td>\n",
       "      <td>16932</td>\n",
       "      <td>13047</td>\n",
       "      <td>11492</td>\n",
       "      <td>12373</td>\n",
       "      <td>8737</td>\n",
       "      <td>9587</td>\n",
       "      <td>7309</td>\n",
       "      <td>6096</td>\n",
       "      <td>5952</td>\n",
       "      <td>5926</td>\n",
       "      <td>3359</td>\n",
       "      <td>6134</td>\n",
       "      <td>2686</td>\n",
       "      <td>1463</td>\n",
       "    </tr>\n",
       "  </tbody>\n",
       "</table>\n",
       "</div>"
      ],
      "text/plain": [
       "year             2020                                    2021                  \\\n",
       "month              8       9       10      11      12      1       2       3    \n",
       "ga_channels                                                                     \n",
       "CRM              8305  272386  275386  240604  231659  173919  223929  253797   \n",
       "Direct           1212   14014   12042   12969   13429   13950   18295   19827   \n",
       "Facebook         7852   85545   85903   69146  143551  138608  130553  151012   \n",
       "Google Ads      79957  925588  922332  836480  886535  784429  884020  927633   \n",
       "Organic search  18724  196872  187848  192497  153202  121261  129747  120371   \n",
       "Referral         1473   16932   13047   11492   12373    8737    9587    7309   \n",
       "\n",
       "year                                                                    \n",
       "month               4       5       6       7       8       9       10  \n",
       "ga_channels                                                             \n",
       "CRM             199836  207033  182853  176291  108267  131605   56477  \n",
       "Direct           18799   18950   18773   20150   19428   23252   12522  \n",
       "Facebook        179330  191791  141406  246592  150884  133976   74908  \n",
       "Google Ads      841725  862360  813653  985252  886919  877830  501057  \n",
       "Organic search   89497   75834   73884   97521   94596  101115   61330  \n",
       "Referral          6096    5952    5926    3359    6134    2686    1463  "
      ]
     },
     "execution_count": 32,
     "metadata": {},
     "output_type": "execute_result"
    }
   ],
   "source": [
    "# pivot table ile daha başarılı bir gözlem şansı yakaladık\n",
    "import numpy as np\n",
    "pd.pivot_table(df, values='ga_itemquantity', index=['ga_channels'], columns=['year',\"month\"], aggfunc=np.size)"
   ]
  },
  {
   "cell_type": "code",
   "execution_count": 45,
   "metadata": {},
   "outputs": [],
   "source": [
    "# products içindeki sınıfların analizi için heat-map oluşturmak üzere pivot table hazırladık\n",
    "pivotdf1 =pd.pivot_table(df, values='ga_itemquantity', index=[\"month\",\"year\"], columns=['ga_products'], aggfunc=np.size)"
   ]
  },
  {
   "cell_type": "code",
   "execution_count": 47,
   "metadata": {},
   "outputs": [],
   "source": [
    "# lead channels içindeki sınıfların analizi için heat-map oluşturmak üzere pivot table hazırladık\n",
    "pivotdf2 =pd.pivot_table(df, values='ga_itemquantity', index=[\"month\",\"year\"], columns=['ga_channels'], aggfunc=np.size)"
   ]
  },
  {
   "cell_type": "code",
   "execution_count": 46,
   "metadata": {},
   "outputs": [
    {
     "data": {
      "image/png": "[encoded data removed]",
      "text/plain": [
       "<Figure size 432x288 with 2 Axes>"
      ]
     },
     "metadata": {
      "needs_background": "light"
     },
     "output_type": "display_data"
    }
   ],
   "source": [
    "# şekilde görüldüğü üzere Product D üzerinde 7. ayda yoğunlaşma görülmüştür\n",
    "import seaborn as sns\n",
    "sns.heatmap (pivotdf1,linewidths =1);"
   ]
  },
  {
   "cell_type": "code",
   "execution_count": 48,
   "metadata": {},
   "outputs": [
    {
     "data": {
      "image/png": "[encoded data removed]",
      "text/plain": [
       "<Figure size 432x288 with 2 Axes>"
      ]
     },
     "metadata": {
      "needs_background": "light"
     },
     "output_type": "display_data"
    }
   ],
   "source": [
    "# şekilde görüldüğü üzere Google Ads kanalı üzeinden gelen lead'ler  7. ayda peak yapmıştır.\n",
    "#demek oluyor ki Google Ads üzerinden gelen Product D'ye yönelik Lead'ler oluşan hacmin temelini oluşturmuştur.\n",
    "# 8. ve 10 ay sözkonusu olunca hacim Google ads için de düşük , diğer tüm lead'ler yıl boyunca zayıftır.\n",
    "sns.heatmap (pivotdf2, linewidths =.4);"
   ]
  },
  {
   "cell_type": "code",
   "execution_count": null,
   "metadata": {},
   "outputs": [],
   "source": []
  }
 ],
 "metadata": {
  "kernelspec": {
   "display_name": "Python 3",
   "language": "python",
   "name": "python3"
  },
  "language_info": {
   "codemirror_mode": {
    "name": "ipython",
    "version": 3
   },
   "file_extension": ".py",
   "mimetype": "text/x-python",
   "name": "python",
   "nbconvert_exporter": "python",
   "pygments_lexer": "ipython3",
   "version": "3.7.4"
  }
 },
 "nbformat": 4,
 "nbformat_minor": 4
}
